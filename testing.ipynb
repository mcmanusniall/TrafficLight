{
 "cells": [
  {
   "cell_type": "code",
   "execution_count": 12,
   "metadata": {},
   "outputs": [],
   "source": [
    "import os\n",
    "import pinecone\n",
    "from os.path import join, dirname\n",
    "from dotenv import load_dotenv\n",
    "\n",
    "# load environment\n",
    "env_filepath = os.path.join(dirname('__file__'), '.env')\n",
    "\n",
    "load_dotenv(env_filepath)\n",
    "\n",
    "pinecone_api_key = os.getenv(\"PINECONE_API_KEY\")\n",
    "env_name = \"gcp-starter\"\n",
    "\n",
    "pinecone.init(api_key=pinecone_api_key, environment=env_name)"
   ]
  },
  {
   "cell_type": "code",
   "execution_count": 13,
   "metadata": {},
   "outputs": [
    {
     "name": "stdout",
     "output_type": "stream",
     "text": [
      "The autoreload extension is already loaded. To reload it, use:\n",
      "  %reload_ext autoreload\n",
      "Pinecone server version: 2.0\n",
      "Pinecone client version: 2.2\n"
     ]
    },
    {
     "ename": "AssertionError",
     "evalue": "Pinecone server and client versions do not match. PLease  update the Pinecone client.",
     "output_type": "error",
     "traceback": [
      "\u001b[0;31m---------------------------------------------------------------------------\u001b[0m",
      "\u001b[0;31mAssertionError\u001b[0m                            Traceback (most recent call last)",
      "\u001b[1;32m/Users/niallmcmanus/Documents/TrafficLight/testing.ipynb Cell 2\u001b[0m line \u001b[0;36m1\n\u001b[1;32m     <a href='vscode-notebook-cell:/Users/niallmcmanus/Documents/TrafficLight/testing.ipynb#W1sZmlsZQ%3D%3D?line=11'>12</a>\u001b[0m client_version \u001b[39m=\u001b[39m \u001b[39m\"\u001b[39m\u001b[39m.\u001b[39m\u001b[39m\"\u001b[39m\u001b[39m.\u001b[39mjoin(version_info\u001b[39m.\u001b[39mclient\u001b[39m.\u001b[39msplit(\u001b[39m\"\u001b[39m\u001b[39m.\u001b[39m\u001b[39m\"\u001b[39m)[:\u001b[39m2\u001b[39m])\n\u001b[1;32m     <a href='vscode-notebook-cell:/Users/niallmcmanus/Documents/TrafficLight/testing.ipynb#W1sZmlsZQ%3D%3D?line=12'>13</a>\u001b[0m \u001b[39mprint\u001b[39m(\u001b[39mf\u001b[39m\u001b[39m\"\u001b[39m\u001b[39mPinecone client version: \u001b[39m\u001b[39m{\u001b[39;00mclient_version\u001b[39m}\u001b[39;00m\u001b[39m\"\u001b[39m)\n\u001b[0;32m---> <a href='vscode-notebook-cell:/Users/niallmcmanus/Documents/TrafficLight/testing.ipynb#W1sZmlsZQ%3D%3D?line=14'>15</a>\u001b[0m \u001b[39massert\u001b[39;00m client_version \u001b[39m==\u001b[39m server_version, \u001b[39m\"\u001b[39m\u001b[39mPinecone server and client versions do not match. PLease  update the Pinecone client.\u001b[39m\u001b[39m\"\u001b[39m\n",
      "\u001b[0;31mAssertionError\u001b[0m: Pinecone server and client versions do not match. PLease  update the Pinecone client."
     ]
    }
   ],
   "source": [
    "# Check pinecone-client compatibility\n",
    "import pinecone.info\n",
    "import console\n",
    "\n",
    "version_info = pinecone.info.version()\n",
    "server_version = \".\".join(version_info.server.split(\".\")[:2])\n",
    "print(f\"Pinecone server version: {server_version}\")\n",
    "client_version = \".\".join(version_info.client.split(\".\")[:2])\n",
    "print(f\"Pinecone client version: {client_version}\")\n",
    "\n",
    "assert client_version == server_version, \"Pinecone server and client versions do not match. PLease  update the Pinecone client.\""
   ]
  },
  {
   "cell_type": "code",
   "execution_count": null,
   "metadata": {},
   "outputs": [],
   "source": []
  }
 ],
 "metadata": {
  "kernelspec": {
   "display_name": "trafficlight",
   "language": "python",
   "name": "python3"
  },
  "language_info": {
   "codemirror_mode": {
    "name": "ipython",
    "version": 3
   },
   "file_extension": ".py",
   "mimetype": "text/x-python",
   "name": "python",
   "nbconvert_exporter": "python",
   "pygments_lexer": "ipython3",
   "version": "3.12.0"
  }
 },
 "nbformat": 4,
 "nbformat_minor": 2
}
