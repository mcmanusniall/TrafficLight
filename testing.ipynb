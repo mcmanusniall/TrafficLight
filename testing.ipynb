{
 "cells": [
  {
   "cell_type": "code",
   "execution_count": 1,
   "metadata": {},
   "outputs": [],
   "source": [
    "import os\n",
    "import pinecone\n",
    "from os.path import join, dirname\n",
    "from dotenv import load_dotenv\n",
    "\n",
    "# load environment\n",
    "env_filepath = os.path.join(dirname('__file__'), '.env')\n",
    "\n",
    "load_dotenv(env_filepath)\n",
    "\n",
    "pinecone_api_key = os.getenv(\"PINECONE_API_KEY\")\n",
    "env_name = \"gcp-starter\"\n",
    "\n",
    "pinecone.init(api_key=pinecone_api_key, environment=env_name)"
   ]
  },
  {
   "cell_type": "code",
   "execution_count": 2,
   "metadata": {},
   "outputs": [
    {
     "name": "stdout",
     "output_type": "stream",
     "text": [
      "Pinecone server version: 2.0\n",
      "Pinecone client version: 2.0\n"
     ]
    }
   ],
   "source": [
    "# Check pinecone-client compatibility\n",
    "import pinecone.info\n",
    "import console\n",
    "\n",
    "version_info = pinecone.info.version()\n",
    "server_version = \".\".join(version_info.server.split(\".\")[:2])\n",
    "print(f\"Pinecone server version: {server_version}\")\n",
    "client_version = \".\".join(version_info.client.split(\".\")[:2])\n",
    "print(f\"Pinecone client version: {client_version}\")\n",
    "\n",
    "assert client_version == server_version, \"Pinecone server and client versions do not match. PLease  update the Pinecone client.\""
   ]
  },
  {
   "cell_type": "code",
   "execution_count": 4,
   "metadata": {},
   "outputs": [],
   "source": [
    "# Connect to Pinecone index\n",
    "try:\n",
    "    pinecone_index = pinecone.Index(os.getenv(\"PINECONE-INDEX_NAME\"))\n",
    "except Exception as e:\n",
    "    print(e.message)"
   ]
  },
  {
   "cell_type": "code",
   "execution_count": null,
   "metadata": {},
   "outputs": [],
   "source": [
    "# PDF Parsing\n",
    "# Methodology taken from:\n",
    "# https://towardsdatascience.com/extracting-text-from-pdf-files-with-python-a-comprehensive-guide-9fc4003d517\n",
    "# Author: George Stavrakis\n",
    "\n",
    "import PyPDF2\n",
    "import pdfplumber\n",
    "import pytesseract \n",
    "from PIL import Image\n",
    "from pdf2image import convert_from_path\n",
    "from pdfminer.high_level import extract_pages, extract_text\n",
    "from pdfminer.layout import LTTextContainer, LTChar, LTRect, LTFigure\n",
    "\n",
    "pdfs_dir_path = os.path.join(dirname('__file__'), 'pdfs')\n",
    "\n",
    "# Step 1: Prelimary analysis of PDF documents to determine each PDF type:\n",
    "# programatically generated; scanned images; or scanned documents with OCR.\n",
    "# Use PDFMiner to take a PDF document object of multiple pages and analyse each page.\n",
    "def convert_pdf_to_text(filepath):\n",
    "    for page_number, page in enumerate(extract_pages(filepath)):\n",
    "        for element in page:\n",
    "            if isinstance(element, LTTextContainer):\n",
    "                # Function to extract text from text block\n",
    "                pass\n",
    "            elif isinstance(element, LTFigure):\n",
    "                # Function to convert PDF to image\n",
    "                pass\n",
    "            elif isinstance(element, LTRect):\n",
    "                # Function to extract text with OCR\n",
    "                pass\n",
    "            else:\n",
    "                console.warning(\"Encountered element of unknown type - unable to parse. Processing next element...\")\n",
    "        \n",
    "\n",
    "                \n",
    "\n",
    "\n",
    "\n",
    "\n",
    "def convert_pdf_to_text(filepath):\n",
    "    with open(filepath, 'rb') as file:\n",
    "        pdf = PdfFileReader(file)\n",
    "        \n",
    "\n",
    "def parse_pdfs(pdfs_dir_path):\n",
    "    if not os.path.exists(pdfs_dir_path):\n",
    "        raise FileNotFoundError(f\"The directory {pdfs_dir_path} cannot be found.\")\n",
    "\n",
    "    for filename in os.listdir(pdfs_dir_path):\n",
    "        if filename.lower().endswith('.pdf'):\n",
    "            filepath = os.path.join(pdfs_dir_path, filename)"
   ]
  },
  {
   "cell_type": "code",
   "execution_count": 5,
   "metadata": {},
   "outputs": [
    {
     "data": {
      "text/plain": [
       "['testing.ipynb', 'README.md', '.gitignore', 'pdfs', '.git']"
      ]
     },
     "execution_count": 5,
     "metadata": {},
     "output_type": "execute_result"
    }
   ],
   "source": [
    "testpath = r\"/Users/niallmcmanus/Documents/TrafficLight\"\n",
    "os.listdir(testpath)"
   ]
  },
  {
   "cell_type": "code",
   "execution_count": null,
   "metadata": {},
   "outputs": [],
   "source": []
  }
 ],
 "metadata": {
  "kernelspec": {
   "display_name": "trafficlight",
   "language": "python",
   "name": "python3"
  },
  "language_info": {
   "codemirror_mode": {
    "name": "ipython",
    "version": 3
   },
   "file_extension": ".py",
   "mimetype": "text/x-python",
   "name": "python",
   "nbconvert_exporter": "python",
   "pygments_lexer": "ipython3",
   "version": "3.12.0"
  }
 },
 "nbformat": 4,
 "nbformat_minor": 2
}
